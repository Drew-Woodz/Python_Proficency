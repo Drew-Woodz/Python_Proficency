{
 "cells": [
  {
   "cell_type": "code",
   "execution_count": 7,
   "id": "1372901a",
   "metadata": {},
   "outputs": [],
   "source": [
    "import heapq\n",
    "\n",
    "class MinHeap:\n",
    "    def __init__(self):\n",
    "        self.heap =[]\n",
    "\n",
    "    def heapify(self,item):\n",
    "        self.heap = item\n",
    "        heapq.heapify(self.heap)\n",
    "\n",
    "    def push(self, item):\n",
    "        heapq.heappush(self.heap, item)\n",
    "\n",
    "    def pop(self): \n",
    "        if self.heap:\n",
    "            return heapq.heappop(self.heap)\n",
    "        else:\n",
    "            return None\n",
    "\n",
    "    def peek(self): \n",
    "        if self.heap:\n",
    "            return self.heap[0]\n",
    "        else:\n",
    "            print(\"Heap is empty!\")\n",
    "            return None\n",
    "\n",
    "    def is_empty(self) -> bool:\n",
    "        return len(self.heap) == 0\n",
    "    \n",
    "    def size(self) -> int:\n",
    "        return len(self.heap)\n",
    "\n",
    "\n",
    "\n"
   ]
  },
  {
   "cell_type": "code",
   "execution_count": 8,
   "id": "7b2ac3fa",
   "metadata": {},
   "outputs": [
    {
     "name": "stdout",
     "output_type": "stream",
     "text": [
      "[0, 1, 1, 2, 3, 4, 5, 7, 9, 8]\n",
      "0\n",
      "1\n",
      "9\n",
      "1\n",
      "False\n",
      "[1, 2, 4, 6, 3, 8, 5, 7, 9]\n",
      "1\n",
      "2\n",
      "8\n",
      "2\n",
      "False\n"
     ]
    }
   ],
   "source": [
    "mylist = [3, 8, 4, 2, 1, 1, 5, 7, 9, 0]\n",
    "h = MinHeap()\n",
    "h.heapify(mylist)\n",
    "print(h.heap)  # Should show a heap, e.g., [0, 1, 1, 2, 3, 4, 5, 7, 9, 8]\n",
    "print(h.pop())  # 0 (smallest)\n",
    "print(h.peek())  # 1 (next smallest)\n",
    "print(h.size())  # 9\n",
    "h.push(6)\n",
    "print(h.pop())  # 1\n",
    "print(h.is_empty())  # Falsemylist = [3, 8, 4, 2, 1, 1, 5, 7, 9, 0]\n",
    "h = MinHeap()\n",
    "h.heapify(mylist)\n",
    "print(h.heap)  # Should show a heap, e.g., [0, 1, 1, 2, 3, 4, 5, 7, 9, 8]\n",
    "print(h.pop())  # 0 (smallest)\n",
    "print(h.peek())  # 1 (next smallest)\n",
    "print(h.size())  # 9\n",
    "h.push(6)\n",
    "print(h.pop())  # 1\n",
    "print(h.is_empty())  # False"
   ]
  },
  {
   "cell_type": "code",
   "execution_count": null,
   "id": "4d20b1bf",
   "metadata": {},
   "outputs": [],
   "source": [
    "for num in nums(5):\n",
    "    print(num)"
   ]
  }
 ],
 "metadata": {
  "kernelspec": {
   "display_name": ".venv",
   "language": "python",
   "name": "python3"
  },
  "language_info": {
   "codemirror_mode": {
    "name": "ipython",
    "version": 3
   },
   "file_extension": ".py",
   "mimetype": "text/x-python",
   "name": "python",
   "nbconvert_exporter": "python",
   "pygments_lexer": "ipython3",
   "version": "3.11.0"
  }
 },
 "nbformat": 4,
 "nbformat_minor": 5
}
