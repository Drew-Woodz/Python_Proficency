{
 "cells": [
  {
   "cell_type": "markdown",
   "id": "29e6960d",
   "metadata": {},
   "source": [
    "Let's play around and make a stack. Just to prove I can"
   ]
  },
  {
   "cell_type": "code",
   "execution_count": 2,
   "id": "f8ce2102",
   "metadata": {},
   "outputs": [],
   "source": [
    "class Stack:\n",
    "    def __init__(self):\n",
    "        self.stack = [] # a regular python list for holding our stack elements\n",
    "\n",
    "    def push(self, item):\n",
    "        self.stack.append(item) # append item to the end of the list (i.e. pushing to \"top\" of list)\n",
    "\n",
    "    def pop(self):\n",
    "        if self.stack:\n",
    "            return self.stack.pop()\n",
    "        else:\n",
    "            print(\"Stack is empty!\") # pop item off the end of the list, or top of our stack\n",
    "            return\n",
    "    \n",
    "    def peek(self):\n",
    "        if self.stack:\n",
    "            return self.stack[-1]\n",
    "        else:\n",
    "            print(\"Stack is empty!\")\n",
    "            return\n",
    "    \n",
    "    def is_empty(self) -> bool:\n",
    "        return len(self.stack) == 0\n"
   ]
  },
  {
   "cell_type": "code",
   "execution_count": 15,
   "id": "7b0dc020",
   "metadata": {},
   "outputs": [
    {
     "name": "stdout",
     "output_type": "stream",
     "text": [
      "Stack is empty!\n",
      "[5, 4, 3, 2, 1]\n",
      "[5, 4, 3, 2]\n",
      "[5, 4, 3, 2, 1, 0]\n"
     ]
    }
   ],
   "source": [
    "s = Stack()\n",
    "\n",
    "print(\"Stack is empty!\" if s.is_empty() else \"Stack is not empty!\")\n",
    "\n",
    "s.push(5)\n",
    "s.push(4)\n",
    "s.push(3)\n",
    "s.push(2)\n",
    "s.push(1)\n",
    "\n",
    "print(s.stack)\n",
    "\n",
    "s.pop()\n",
    "\n",
    "print(s.stack)\n",
    "\n",
    "s.peek()\n",
    "\n",
    "s.push(1)\n",
    "s.push(0)\n",
    "\n",
    "print(s.stack)"
   ]
  },
  {
   "cell_type": "code",
   "execution_count": null,
   "id": "1ef95fe3",
   "metadata": {},
   "outputs": [],
   "source": []
  }
 ],
 "metadata": {
  "kernelspec": {
   "display_name": ".venv",
   "language": "python",
   "name": "python3"
  },
  "language_info": {
   "codemirror_mode": {
    "name": "ipython",
    "version": 3
   },
   "file_extension": ".py",
   "mimetype": "text/x-python",
   "name": "python",
   "nbconvert_exporter": "python",
   "pygments_lexer": "ipython3",
   "version": "3.11.0"
  }
 },
 "nbformat": 4,
 "nbformat_minor": 5
}
