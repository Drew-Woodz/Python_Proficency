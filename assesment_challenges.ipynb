{
 "cells": [
  {
   "cell_type": "code",
   "execution_count": 8,
   "id": "31a27fc2",
   "metadata": {},
   "outputs": [
    {
     "name": "stdout",
     "output_type": "stream",
     "text": [
      "██░    ███░ ██████░    ███████░  ██░           ███░ ██████████░ ████████░    ████████░  \n",
      "██░  ███░     ██░    ███░    ██░ ███░   ███░   ██░  ██░         ██░     ██░  ██░     ██░\n",
      "██░███░       ██░   ███░          ██░  █████░ ███░  ██░         ██░      ██░ ██░     ██░\n",
      "████░         ██░   ██░           ███░ ██░██░ ██░   ████████░   ██░      ██░ ████████░  \n",
      "██░███░       ██░   ███░           ██░██░ ██░██░    ██░         ██░      ██░ ██░     ██░\n",
      "██░  ███░     ██░    ███░    ██░   ████░   ████░    ██░         ██░     ██░  ██░     ██░\n",
      "██░    ███░ ██████░    ███████░     ██░     ██░     ██████████░ ████████░    ████████░  \n"
     ]
    }
   ],
   "source": [
    "import requests\n",
    "from bs4 import BeautifulSoup\n",
    "\n",
    "def print_character_grid(doc_url):\n",
    "    \"\"\"Fetch a published Google Doc table of (x, char, y) and print the character grid.\"\"\"\n",
    "    html = requests.get(doc_url).text\n",
    "    rows = BeautifulSoup(html, \"html.parser\").find_all(\"tr\")\n",
    "\n",
    "    cells = {}\n",
    "    for row in rows[1:]: # skip header\n",
    "        tds = row.find_all(\"td\")\n",
    "        x = int(tds[0].get_text(strip=True))\n",
    "        ch = tds[1].get_text().strip()[:1]  # table stores a single character\n",
    "        y = int(tds[2].get_text(strip=True))\n",
    "        cells[(x, y)] = ch\n",
    "\n",
    "    max_x = max((x for x, _ in cells), default=0)\n",
    "    max_y = max((y for _, y in cells), default=0)\n",
    "\n",
    "    # Print top row first to match the document's coordinate orientation.\n",
    "    for y in range(max_y, -1, -1):\n",
    "        print(\"\".join(cells.get((x, y), \" \") for x in range(max_x + 1)))\n",
    "\n",
    "\n",
    "# Test\n",
    "print_character_grid('https://docs.google.com/document/d/e/2PACX-1vRPzbNQcx5UriHSbZ-9vmsTow_R6RRe7eyAU60xIF9Dlz-vaHiHNO2TKgDi7jy4ZpTpNqM7EvEcfr_p/pub')  # Execute with given URL"
   ]
  }
 ],
 "metadata": {
  "kernelspec": {
   "display_name": ".venv",
   "language": "python",
   "name": "python3"
  },
  "language_info": {
   "codemirror_mode": {
    "name": "ipython",
    "version": 3
   },
   "file_extension": ".py",
   "mimetype": "text/x-python",
   "name": "python",
   "nbconvert_exporter": "python",
   "pygments_lexer": "ipython3",
   "version": "3.11.0"
  }
 },
 "nbformat": 4,
 "nbformat_minor": 5
}
