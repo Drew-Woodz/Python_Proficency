{
 "cells": [
  {
   "cell_type": "code",
   "execution_count": 8,
   "id": "8d00cdc4",
   "metadata": {},
   "outputs": [],
   "source": [
    "class Stack:\n",
    "    def __init__(self):\n",
    "        self.items = []\n",
    "\n",
    "    def push(self, item): self.items.append(item)\n",
    "    def pop(self): return self.items.pop() if self.items else None\n",
    "    def peek(self): return self.items[-1] if self.items else None\n",
    "    def is_empty(self): return not self.items\n"
   ]
  },
  {
   "cell_type": "markdown",
   "id": "20af3bf4",
   "metadata": {},
   "source": [
    "Reverse String with Stack: Takes a string, returns the reversed string using a stack (list as stack)."
   ]
  },
  {
   "cell_type": "code",
   "execution_count": 9,
   "id": "d63483bd",
   "metadata": {},
   "outputs": [],
   "source": [
    "def rev_string(s : str) -> str:\n",
    "    temp = Stack()\n",
    "    for char in s:\n",
    "        temp.push(char)\n",
    "\n",
    "    result = []\n",
    "    while not temp.is_empty():\n",
    "        result.append(temp.pop())\n",
    "    return \"\".join(result)"
   ]
  },
  {
   "cell_type": "code",
   "execution_count": 10,
   "id": "7d653744",
   "metadata": {},
   "outputs": [
    {
     "name": "stdout",
     "output_type": "stream",
     "text": [
      "neppah\n"
     ]
    }
   ],
   "source": [
    "string = \"happen\"\n",
    "print(rev_string(string))"
   ]
  }
 ],
 "metadata": {
  "kernelspec": {
   "display_name": ".venv",
   "language": "python",
   "name": "python3"
  },
  "language_info": {
   "codemirror_mode": {
    "name": "ipython",
    "version": 3
   },
   "file_extension": ".py",
   "mimetype": "text/x-python",
   "name": "python",
   "nbconvert_exporter": "python",
   "pygments_lexer": "ipython3",
   "version": "3.11.0"
  }
 },
 "nbformat": 4,
 "nbformat_minor": 5
}
