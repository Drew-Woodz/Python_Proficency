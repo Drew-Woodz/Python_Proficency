{
 "cells": [
  {
   "cell_type": "code",
   "execution_count": 1,
   "id": "dab4e833",
   "metadata": {},
   "outputs": [],
   "source": [
    "class Stack:\n",
    "    def __init__(self):\n",
    "        self.items = []\n",
    "\n",
    "    def push(self, item): self.items.append(item)\n",
    "    def pop(self): return self.items.pop() if self.items else None\n",
    "    def peek(self): return self.items[-1] if self.items else None\n",
    "    def is_empty(self): return not self.items\n"
   ]
  },
  {
   "cell_type": "code",
   "execution_count": 4,
   "id": "704c2668",
   "metadata": {},
   "outputs": [],
   "source": [
    "class StackQueue:\n",
    "    def __init__(self):\n",
    "        self.inStack = Stack()\n",
    "        self.outStack = Stack()\n",
    "    \n",
    "    def enqueue(self, item):\n",
    "        self.inStack.push(item)\n",
    "    \n",
    "    def dequeue(self):\n",
    "        if self.outStack.is_empty():\n",
    "            while not self.inStack.is_empty():\n",
    "                self.outStack.push(self.inStack.pop())\n",
    "        return self.outStack.pop()\n",
    "    \n",
    "    def peek(self):\n",
    "        if self.outStack.is_empty():\n",
    "            while not self.inStack.is_empty():\n",
    "                self.outStack.push(self.inStack.pop())\n",
    "        return self.outStack.peek()\n",
    "\n",
    "    def is_empty(self):\n",
    "        return self.inStack.is_empty() and self.outStack.is_empty()\n",
    "    \n"
   ]
  },
  {
   "cell_type": "code",
   "execution_count": 5,
   "id": "6d40f867",
   "metadata": {},
   "outputs": [
    {
     "name": "stdout",
     "output_type": "stream",
     "text": [
      "10\n",
      "20\n",
      "20\n",
      "30\n",
      "40\n",
      "True\n"
     ]
    }
   ],
   "source": [
    "q = StackQueue()\n",
    "q.enqueue(10)\n",
    "q.enqueue(20)\n",
    "q.enqueue(30)\n",
    "\n",
    "print(q.dequeue())  # 10\n",
    "print(q.peek())     # 20\n",
    "print(q.dequeue())  # 20\n",
    "q.enqueue(40)\n",
    "print(q.dequeue())  # 30\n",
    "print(q.dequeue())  # 40\n",
    "print(q.is_empty()) # True\n"
   ]
  }
 ],
 "metadata": {
  "kernelspec": {
   "display_name": ".venv",
   "language": "python",
   "name": "python3"
  },
  "language_info": {
   "codemirror_mode": {
    "name": "ipython",
    "version": 3
   },
   "file_extension": ".py",
   "mimetype": "text/x-python",
   "name": "python",
   "nbconvert_exporter": "python",
   "pygments_lexer": "ipython3",
   "version": "3.11.0"
  }
 },
 "nbformat": 4,
 "nbformat_minor": 5
}
