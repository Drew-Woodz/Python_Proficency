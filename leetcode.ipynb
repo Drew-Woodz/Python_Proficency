{
 "cells": [
  {
   "cell_type": "code",
   "execution_count": null,
   "id": "d1f7f1e0",
   "metadata": {},
   "outputs": [
    {
     "name": "stdout",
     "output_type": "stream",
     "text": [
      "4\n",
      "9\n",
      "16\n",
      "25\n"
     ]
    }
   ],
   "source": [
    "nums = [1, 3, 5, 7, 9]\n",
    "result = nums\n",
    "for i in range(1, len(nums)):\n",
    "    result[i] = nums[i] + nums[i-1]\n"
   ]
  },
  {
   "cell_type": "code",
   "execution_count": 12,
   "id": "bc7a6315",
   "metadata": {},
   "outputs": [
    {
     "name": "stdout",
     "output_type": "stream",
     "text": [
      "24\n"
     ]
    }
   ],
   "source": [
    "accounts = [\n",
    "    [1, 2, 3],\n",
    "    [4, 5, 6],\n",
    "    [7, 8, 9]\n",
    "]\n",
    "richest = 0\n",
    "for row in accounts:\n",
    "    row_sum = sum(row)\n",
    "    if row_sum > richest:\n",
    "        richest = row_sum \n",
    "print(richest)\n"
   ]
  },
  {
   "cell_type": "code",
   "execution_count": 20,
   "id": "503c988b",
   "metadata": {},
   "outputs": [
    {
     "name": "stdout",
     "output_type": "stream",
     "text": [
      "['1', '2', 'Fizz', '4', 'Buzz', 'Fizz', '7', '8', 'Fizz', 'Buzz', '11', 'Fizz', '13', '14', 'FizzBuzz']\n",
      "['1', '2', 'Fizz', '4', 'Buzz', 'Fizz', '7', '8', 'Fizz', 'Buzz', '11', 'Fizz', '13', '14', 'FizzBuzz']\n"
     ]
    }
   ],
   "source": [
    "\n",
    "n = 15\n",
    "answer = []\n",
    "for i in range(1, n + 1): \n",
    "    match i:\n",
    "        case _ if i % 5 == 0 and i % 3 == 0:\n",
    "            answer.append(\"FizzBuzz\")\n",
    "        case _ if i % 5 == 0:\n",
    "            answer.append(\"Buzz\")\n",
    "        case _ if i % 3 == 0:\n",
    "            answer.append(\"Fizz\")\n",
    "        case _:\n",
    "            answer.append(str(i))\n",
    "\n",
    "print(answer)\n",
    "\n",
    "\n",
    "\n",
    "answer = []\n",
    "for i in range(1, n +1):\n",
    "    if i % 3 == 0 and i % 5 == 0:\n",
    "        answer.append(\"FizzBuzz\")\n",
    "    elif i % 5 == 0:\n",
    "        answer.append(\"Buzz\")\n",
    "    elif i % 3 == 0:\n",
    "        answer.append(\"Fizz\")\n",
    "    else:\n",
    "        answer.append(str(i))\n",
    "print(answer)"
   ]
  },
  {
   "cell_type": "code",
   "execution_count": 24,
   "id": "9c827e69",
   "metadata": {},
   "outputs": [
    {
     "name": "stdout",
     "output_type": "stream",
     "text": [
      "Number of steps to zero:  6\n"
     ]
    }
   ],
   "source": [
    "num = 14\n",
    "count = 0\n",
    "\n",
    "while num != 0:\n",
    "    if num % 2 == 0:\n",
    "        count += 1\n",
    "        num //= 2\n",
    "    else:\n",
    "        count += 1\n",
    "        num -= 1\n",
    "\n",
    "print(\"Number of steps to zero: \", count)"
   ]
  },
  {
   "cell_type": "code",
   "execution_count": null,
   "id": "2882b7f0",
   "metadata": {},
   "outputs": [],
   "source": [
    "# use fast and slow pointers\n",
    "\n",
    "slow = head       \n",
    "fast = head\n",
    "while fast and fast.next:\n",
    "    slow = slow.next\n",
    "    fast = fast.next.next\n",
    "return slow"
   ]
  },
  {
   "cell_type": "code",
   "execution_count": null,
   "id": "a87f13c4",
   "metadata": {},
   "outputs": [],
   "source": [
    "for char in ransomNote:\n",
    "    if char in magazine:\n",
    "        index = magazine.index(char)\n",
    "        magazine = magazine[:index] + magazine[index+1:]\n",
    "    else:\n",
    "        return False\n",
    "return True"
   ]
  },
  {
   "cell_type": "markdown",
   "id": "643c3f73",
   "metadata": {},
   "source": [
    "Longest Common Prefix"
   ]
  },
  {
   "cell_type": "code",
   "execution_count": 2,
   "id": "81021876",
   "metadata": {},
   "outputs": [],
   "source": [
    "def longestCommonPrefix(self, strs):\n",
    "    \"\"\"\n",
    "    :type strs: List[str]\n",
    "    :rtype: str\n",
    "    \"\"\"\n",
    "    for i in range(len(strs[0])):\n",
    "        char = strs[0][i]\n",
    "        for word in strs[1:]:\n",
    "            if i >= len(word) or word[i] != char:\n",
    "                return strs[0][:i]\n",
    "    return strs[0]"
   ]
  },
  {
   "cell_type": "markdown",
   "id": "0266f706",
   "metadata": {},
   "source": [
    "Remove Duplicates from Sorted Array"
   ]
  },
  {
   "cell_type": "code",
   "execution_count": 1,
   "id": "99a9e7ca",
   "metadata": {},
   "outputs": [
    {
     "name": "stdout",
     "output_type": "stream",
     "text": [
      "k = 4\n",
      "deduped nums = [1, 2, 3, 4]\n"
     ]
    }
   ],
   "source": [
    "def removeDuplicates(nums):\n",
    "    write = 1\n",
    "    for read in range(1, len(nums)):\n",
    "        if nums[read] != nums[read - 1]:\n",
    "            nums[write] = nums[read]\n",
    "            write += 1\n",
    "    return write\n",
    "\n",
    "\n",
    "nums = [1, 1, 2, 3, 3, 4]\n",
    "k = removeDuplicates(nums)\n",
    "print(\"k =\", k)\n",
    "print(\"deduped nums =\", nums[:k])"
   ]
  },
  {
   "cell_type": "markdown",
   "id": "3af1ac65",
   "metadata": {},
   "source": [
    "Search Insert Position\n"
   ]
  },
  {
   "cell_type": "code",
   "execution_count": null,
   "id": "52ed600d",
   "metadata": {},
   "outputs": [],
   "source": [
    "def searchInsert(nums: list[int], target: int) -> int:\n",
    "    left, right = 0, len(nums) - 1\n",
    "\n",
    "    while left <= right:\n",
    "        mid = (left + right) // 2\n",
    "\n",
    "        if nums[mid] == target:\n",
    "            return mid\n",
    "        elif nums[mid]<target:\n",
    "            left = mid + 1\n",
    "        else:\n",
    "            right = mid -1\n",
    "    return left "
   ]
  },
  {
   "cell_type": "markdown",
   "id": "1c6e9659",
   "metadata": {},
   "source": [
    "Plus One"
   ]
  },
  {
   "cell_type": "code",
   "execution_count": 1,
   "id": "0201a06a",
   "metadata": {},
   "outputs": [
    {
     "name": "stdout",
     "output_type": "stream",
     "text": [
      "[1, 2, 4]\n",
      "[1, 0]\n",
      "[4, 3, 2, 2]\n"
     ]
    }
   ],
   "source": [
    "def plusOne(digits):\n",
    "\n",
    "    n = len(digits)\n",
    "\n",
    "    for i in reversed(range(n)):\n",
    "        if digits[i] < 9:\n",
    "            digits[i] += 1\n",
    "            return digits\n",
    "        digits[i] = 0\n",
    "\n",
    "    return [1] + digits\n",
    "\n",
    "\n",
    "digits = [1,2,3]\n",
    "digits = plusOne(digits)\n",
    "print(digits)\n",
    "\n",
    "digits = [9]\n",
    "digits = plusOne(digits)\n",
    "print(digits)\n",
    "\n",
    "digits = [4,3,2,1]\n",
    "digits = plusOne(digits)\n",
    "print(digits)\n"
   ]
  },
  {
   "cell_type": "markdown",
   "id": "02e82f6a",
   "metadata": {},
   "source": [
    "merge sorted array"
   ]
  },
  {
   "cell_type": "code",
   "execution_count": null,
   "id": "b51a0667",
   "metadata": {},
   "outputs": [],
   "source": [
    "def merge(nums1, m, nums2, n):\n",
    "    p1 = m - 1\n",
    "    p2 = n - 1\n",
    "    p = m + n - 1\n",
    "\n",
    "    while p1 >= 0 and p2 >= 0:\n",
    "        if nums1[p1]>nums2[p2]:\n",
    "            nums1[p] = nums1[p1]\n",
    "            p1 -= 1\n",
    "        else:\n",
    "            nums1[p] = nums2[p2]\n",
    "            p2 -= 1\n",
    "        p -= 1\n",
    "    \n",
    "    while p2 >= 0:\n",
    "        nums[p] = nums2[p2]\n",
    "        p2 -= 1\n",
    "        p -= 1"
   ]
  },
  {
   "cell_type": "markdown",
   "id": "fb6b45d2",
   "metadata": {},
   "source": [
    "Convert Sorted Array to Binary Search Tree"
   ]
  },
  {
   "cell_type": "code",
   "execution_count": null,
   "id": "76b2c5e1",
   "metadata": {},
   "outputs": [],
   "source": []
  },
  {
   "cell_type": "code",
   "execution_count": null,
   "id": "b4ee4e2b",
   "metadata": {},
   "outputs": [],
   "source": []
  },
  {
   "cell_type": "markdown",
   "id": "cc92e6df",
   "metadata": {},
   "source": [
    "118. Pascal's Triangle"
   ]
  },
  {
   "cell_type": "code",
   "execution_count": 1,
   "id": "41d5c938",
   "metadata": {},
   "outputs": [],
   "source": [
    "def generate(numRows):\n",
    "    \"\"\"\n",
    "    :type numRows: int\n",
    "    :rtype: List[List[int]]\n",
    "    \"\"\"\n",
    "    triangle = []\n",
    "    for r in range(numRows):\n",
    "        row = [1] * (r + 1)  # ends are 1\n",
    "        for c in range(1, r):  # fill the middle\n",
    "            row[c] = triangle[r-1][c-1] + triangle[r-1][c]\n",
    "        triangle.append(row)\n",
    "    return triangle"
   ]
  },
  {
   "cell_type": "code",
   "execution_count": 2,
   "id": "0efdc507",
   "metadata": {},
   "outputs": [
    {
     "name": "stdout",
     "output_type": "stream",
     "text": [
      "[[1], [1, 1], [1, 2, 1], [1, 3, 3, 1], [1, 4, 6, 4, 1]]\n"
     ]
    }
   ],
   "source": [
    "triangle = generate(5)\n",
    "print(triangle)"
   ]
  },
  {
   "cell_type": "markdown",
   "id": "b7239f68",
   "metadata": {},
   "source": [
    "119. Pascal's Triangle II"
   ]
  },
  {
   "cell_type": "code",
   "execution_count": 5,
   "id": "87e29a4e",
   "metadata": {},
   "outputs": [],
   "source": [
    "\n",
    "def getRow(rowIndex):\n",
    "    row = [1] * (rowIndex + 1)\n",
    "    for k in range(1, rowIndex):\n",
    "        row[k] = row[k - 1] * (rowIndex - k + 1) // k\n",
    "    return row"
   ]
  },
  {
   "cell_type": "code",
   "execution_count": 6,
   "id": "7024b914",
   "metadata": {},
   "outputs": [
    {
     "data": {
      "text/plain": [
       "[1, 5, 10, 10, 5, 1]"
      ]
     },
     "execution_count": 6,
     "metadata": {},
     "output_type": "execute_result"
    }
   ],
   "source": [
    "getRow(5)"
   ]
  },
  {
   "cell_type": "markdown",
   "id": "d6694205",
   "metadata": {},
   "source": [
    "121. Best Time to Buy and Sell Stock"
   ]
  },
  {
   "cell_type": "code",
   "execution_count": null,
   "id": "abe9dfb7",
   "metadata": {},
   "outputs": [],
   "source": [
    "class Solution(object):\n",
    "    def maxProfit(self, prices):\n",
    "        \"\"\"\n",
    "        :type prices: List[int]\n",
    "        :rtype: int\n",
    "        \"\"\"\n",
    "        min_price = float('inf')\n",
    "        max_profit = 0\n",
    "        for p in prices:\n",
    "            if p < min_price:\n",
    "                min_price = p\n",
    "            else:\n",
    "                max_profit = max(max_profit, p - min_price)\n",
    "        return max_profit\n",
    "    "
   ]
  },
  {
   "cell_type": "markdown",
   "id": "94058db8",
   "metadata": {},
   "source": [
    "136. Single Number"
   ]
  },
  {
   "cell_type": "code",
   "execution_count": null,
   "id": "bd53aacd",
   "metadata": {},
   "outputs": [],
   "source": [
    "class Solution(object):\n",
    "    def singleNumber(self, nums):\n",
    "        \"\"\"\n",
    "        :type nums: List[int]\n",
    "        :rtype: int\n",
    "        \"\"\"\n",
    "        result = 0\n",
    "        for num in nums:\n",
    "            result ^= num\n",
    "        return result"
   ]
  },
  {
   "cell_type": "markdown",
   "id": "4af3461d",
   "metadata": {},
   "source": [
    "169. Majority Element"
   ]
  },
  {
   "cell_type": "code",
   "execution_count": null,
   "id": "f3db7268",
   "metadata": {},
   "outputs": [],
   "source": [
    "class Solution(object):\n",
    "    def majorityElement(self, nums):\n",
    "        \"\"\"\n",
    "        :type nums: List[int]\n",
    "        :rtype: int\n",
    "        \"\"\"\n",
    "\n",
    "        # Sort trick\n",
    "        nums.sort()\n",
    "        return nums[len(nums) // 2]"
   ]
  },
  {
   "cell_type": "markdown",
   "id": "9c86833f",
   "metadata": {},
   "source": [
    "217. Contains Duplicate"
   ]
  },
  {
   "cell_type": "code",
   "execution_count": null,
   "id": "04ce9899",
   "metadata": {},
   "outputs": [],
   "source": [
    "class Solution(object):\n",
    "    def containsDuplicate(self, nums):\n",
    "        \"\"\"\n",
    "        :type nums: List[int]\n",
    "        :rtype: bool\n",
    "        \"\"\"\n",
    "        seen = set()\n",
    "        for num in nums:\n",
    "            if num in seen:\n",
    "                return True\n",
    "            seen.add(num)\n",
    "        return False"
   ]
  },
  {
   "cell_type": "markdown",
   "id": "a3709d03",
   "metadata": {},
   "source": [
    "217. Contains Duplicate (pythonic solution)"
   ]
  },
  {
   "cell_type": "code",
   "execution_count": null,
   "id": "c747142c",
   "metadata": {},
   "outputs": [],
   "source": [
    "class Solution(object):\n",
    "    def containsDuplicate(self, nums):\n",
    "        \"\"\"\n",
    "        :type nums: List[int]\n",
    "        :rtype: bool\n",
    "        \"\"\"\n",
    "        return len(nums) != len(set(nums))"
   ]
  },
  {
   "cell_type": "markdown",
   "id": "d8cc83db",
   "metadata": {},
   "source": [
    "219. Contains Duplicate II"
   ]
  },
  {
   "cell_type": "code",
   "execution_count": null,
   "id": "b2f91213",
   "metadata": {},
   "outputs": [],
   "source": [
    "class Solution(object):\n",
    "    def containsNearbyDuplicate(self, nums, k):\n",
    "        \"\"\"\n",
    "        :type nums: List[int]\n",
    "        :type k: int\n",
    "        :rtype: bool\n",
    "        \"\"\"\n",
    "        last_seen = {}\n",
    "        for i, num in enumerate(nums):\n",
    "            if num in last_seen and i - last_seen[num] <= k:\n",
    "                return True\n",
    "            last_seen[num] = i\n",
    "        return False"
   ]
  },
  {
   "cell_type": "markdown",
   "id": "53f22de8",
   "metadata": {},
   "source": [
    "219. Contains Duplicate II (approach 2)"
   ]
  },
  {
   "cell_type": "code",
   "execution_count": null,
   "id": "69490827",
   "metadata": {},
   "outputs": [],
   "source": [
    "class Solution(object):\n",
    "    def containsNearbyDuplicate(self, nums, k):\n",
    "        \"\"\"\n",
    "        :type nums: List[int]\n",
    "        :type k: int\n",
    "        :rtype: bool\n",
    "        \"\"\"\n",
    "        window = set()\n",
    "        for i, num in enumerate(nums):\n",
    "            if num in window:\n",
    "                return True\n",
    "            window.add(num)\n",
    "            if len(window) > k:\n",
    "                window.remove(nums[i-k])\n",
    "        return False"
   ]
  },
  {
   "cell_type": "markdown",
   "id": "23f2d9a3",
   "metadata": {},
   "source": [
    "228. Summary Ranges"
   ]
  },
  {
   "cell_type": "code",
   "execution_count": null,
   "id": "9ee88c94",
   "metadata": {},
   "outputs": [],
   "source": [
    "class Solution(object):\n",
    "    def summaryRanges(self, nums):\n",
    "        if not nums:\n",
    "            return []\n",
    "\n",
    "        result = []\n",
    "        start = nums[0]\n",
    "\n",
    "        for i in range(1, len(nums)):\n",
    "            # range breaks if not consecutive\n",
    "            if nums[i] != nums[i - 1] + 1:\n",
    "                if start == nums[i - 1]:\n",
    "                    result.append(str(start))\n",
    "                else:\n",
    "                    result.append(str(start) + \"->\" + str(nums[i - 1]))\n",
    "                start = nums[i]\n",
    "\n",
    "        # handle the final range\n",
    "        if start == nums[-1]:\n",
    "            result.append(str(start))\n",
    "        else:\n",
    "            result.append(str(start) + \"->\" + str(nums[-1]))\n",
    "\n",
    "        return result\n"
   ]
  },
  {
   "cell_type": "markdown",
   "id": "e411b5d3",
   "metadata": {},
   "source": [
    "228. Summary Ranges : Pythonic short version"
   ]
  },
  {
   "cell_type": "code",
   "execution_count": null,
   "id": "4be7b283",
   "metadata": {},
   "outputs": [],
   "source": [
    "def summaryRanges(self, nums):\n",
    "    result = []\n",
    "    i = 0\n",
    "    while i < len(nums):\n",
    "        start = nums[i]\n",
    "        while i + 1 < len(nums) and nums[i+1] == nums[i] + 1:\n",
    "            i += 1\n",
    "        end = nums[i]\n",
    "        result.append(str(start) if start == end else f\"{start}->{end}\")\n",
    "        i += 1\n",
    "    return result"
   ]
  },
  {
   "cell_type": "markdown",
   "id": "dccfba62",
   "metadata": {},
   "source": [
    "268. Missing Number"
   ]
  },
  {
   "cell_type": "code",
   "execution_count": null,
   "id": "fbce63f0",
   "metadata": {},
   "outputs": [],
   "source": [
    "class Solution(object):\n",
    "    def missingNumber(self, nums):\n",
    "        \"\"\"\n",
    "        :type nums: List[int]\n",
    "        :rtype: int\n",
    "        \"\"\"\n",
    "        n = len(nums)\n",
    "        expected = n * (n + 1) // 2\n",
    "        actual = sum(nums)\n",
    "        return expected - actual"
   ]
  }
 ],
 "metadata": {
  "kernelspec": {
   "display_name": ".venv",
   "language": "python",
   "name": "python3"
  },
  "language_info": {
   "codemirror_mode": {
    "name": "ipython",
    "version": 3
   },
   "file_extension": ".py",
   "mimetype": "text/x-python",
   "name": "python",
   "nbconvert_exporter": "python",
   "pygments_lexer": "ipython3",
   "version": "3.11.0"
  }
 },
 "nbformat": 4,
 "nbformat_minor": 5
}
