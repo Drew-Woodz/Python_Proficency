{
 "cells": [
  {
   "cell_type": "code",
   "execution_count": null,
   "id": "d1f7f1e0",
   "metadata": {},
   "outputs": [
    {
     "name": "stdout",
     "output_type": "stream",
     "text": [
      "4\n",
      "9\n",
      "16\n",
      "25\n"
     ]
    }
   ],
   "source": [
    "nums = [1, 3, 5, 7, 9]\n",
    "result = nums\n",
    "for i in range(1, len(nums)):\n",
    "    result[i] = nums[i] + nums[i-1]\n"
   ]
  },
  {
   "cell_type": "code",
   "execution_count": 12,
   "id": "bc7a6315",
   "metadata": {},
   "outputs": [
    {
     "name": "stdout",
     "output_type": "stream",
     "text": [
      "24\n"
     ]
    }
   ],
   "source": [
    "accounts = [\n",
    "    [1, 2, 3],\n",
    "    [4, 5, 6],\n",
    "    [7, 8, 9]\n",
    "]\n",
    "richest = 0\n",
    "for row in accounts:\n",
    "    row_sum = sum(row)\n",
    "    if row_sum > richest:\n",
    "        richest = row_sum \n",
    "print(richest)\n"
   ]
  },
  {
   "cell_type": "code",
   "execution_count": 20,
   "id": "503c988b",
   "metadata": {},
   "outputs": [
    {
     "name": "stdout",
     "output_type": "stream",
     "text": [
      "['1', '2', 'Fizz', '4', 'Buzz', 'Fizz', '7', '8', 'Fizz', 'Buzz', '11', 'Fizz', '13', '14', 'FizzBuzz']\n",
      "['1', '2', 'Fizz', '4', 'Buzz', 'Fizz', '7', '8', 'Fizz', 'Buzz', '11', 'Fizz', '13', '14', 'FizzBuzz']\n"
     ]
    }
   ],
   "source": [
    "\n",
    "n = 15\n",
    "answer = []\n",
    "for i in range(1, n + 1): \n",
    "    match i:\n",
    "        case _ if i % 5 == 0 and i % 3 == 0:\n",
    "            answer.append(\"FizzBuzz\")\n",
    "        case _ if i % 5 == 0:\n",
    "            answer.append(\"Buzz\")\n",
    "        case _ if i % 3 == 0:\n",
    "            answer.append(\"Fizz\")\n",
    "        case _:\n",
    "            answer.append(str(i))\n",
    "\n",
    "print(answer)\n",
    "\n",
    "\n",
    "\n",
    "answer = []\n",
    "for i in range(1, n +1):\n",
    "    if i % 3 == 0 and i % 5 == 0:\n",
    "        answer.append(\"FizzBuzz\")\n",
    "    elif i % 5 == 0:\n",
    "        answer.append(\"Buzz\")\n",
    "    elif i % 3 == 0:\n",
    "        answer.append(\"Fizz\")\n",
    "    else:\n",
    "        answer.append(str(i))\n",
    "print(answer)"
   ]
  },
  {
   "cell_type": "code",
   "execution_count": 24,
   "id": "9c827e69",
   "metadata": {},
   "outputs": [
    {
     "name": "stdout",
     "output_type": "stream",
     "text": [
      "Number of steps to zero:  6\n"
     ]
    }
   ],
   "source": [
    "num = 14\n",
    "count = 0\n",
    "\n",
    "while num != 0:\n",
    "    if num % 2 == 0:\n",
    "        count += 1\n",
    "        num //= 2\n",
    "    else:\n",
    "        count += 1\n",
    "        num -= 1\n",
    "\n",
    "print(\"Number of steps to zero: \", count)"
   ]
  },
  {
   "cell_type": "code",
   "execution_count": null,
   "id": "2882b7f0",
   "metadata": {},
   "outputs": [],
   "source": [
    "# use fast and slow pointers\n",
    "\n",
    "slow = head       \n",
    "fast = head\n",
    "while fast and fast.next:\n",
    "    slow = slow.next\n",
    "    fast = fast.next.next\n",
    "return slow"
   ]
  }
 ],
 "metadata": {
  "kernelspec": {
   "display_name": ".venv",
   "language": "python",
   "name": "python3"
  },
  "language_info": {
   "codemirror_mode": {
    "name": "ipython",
    "version": 3
   },
   "file_extension": ".py",
   "mimetype": "text/x-python",
   "name": "python",
   "nbconvert_exporter": "python",
   "pygments_lexer": "ipython3",
   "version": "3.11.0"
  }
 },
 "nbformat": 4,
 "nbformat_minor": 5
}
