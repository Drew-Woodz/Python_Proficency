{
 "cells": [
  {
   "cell_type": "markdown",
   "id": "2f4be0a2",
   "metadata": {},
   "source": [
    "A linked list is like a chain of items (called \"nodes\") where each node holds some data (like a number or string) and a pointer (reference) to the next node in the chain. The list starts with a \"head\" node, and the last node points to nothing (None in Python). Unlike Python's built-in lists (which are arrays under the hood), linked lists are great for inserting/deleting items without shifting everything around, but they're slower for random access. In Python, we build linked lists using classes because Python is object-oriented."
   ]
  },
  {
   "cell_type": "code",
   "execution_count": null,
   "id": "ebbbe115",
   "metadata": {},
   "outputs": [],
   "source": [
    "class Node:\n",
    "    def __init__(self, data):\n",
    "        self.data = data # stores the value\n",
    "        self.next = None # points at the next node, which begins as None"
   ]
  },
  {
   "cell_type": "markdown",
   "id": "d1e41a15",
   "metadata": {},
   "source": [
    "The LinkedList Class. This is the manager for the whole list. It keeps track of the \"head\" (first node). We'll add methods to do stuff like adding nodes or printing the list."
   ]
  },
  {
   "cell_type": "code",
   "execution_count": null,
   "id": "477aebe1",
   "metadata": {},
   "outputs": [],
   "source": [
    "class LinkedList:\n",
    "    def __init__(self):\n",
    "        self.head = None"
   ]
  },
  {
   "cell_type": "markdown",
   "id": "8a95ad18",
   "metadata": {},
   "source": [
    "Adding methods to the linked list.\n",
    "\n",
    "Insert at the beginning.  (prepend)"
   ]
  },
  {
   "cell_type": "code",
   "execution_count": null,
   "id": "489eebd7",
   "metadata": {},
   "outputs": [],
   "source": [
    "def prepend(self, data):\n",
    "    new_node = Node(data) # create a new node\n",
    "    new_node.next = self.head # point the new node's next to the current head\n",
    "    self.head = new_node # make the new node the head"
   ]
  },
  {
   "cell_type": "markdown",
   "id": "5600d934",
   "metadata": {},
   "source": [
    "Insert at the End (append)"
   ]
  },
  {
   "cell_type": "code",
   "execution_count": null,
   "id": "295d28ee",
   "metadata": {},
   "outputs": [],
   "source": [
    "def append(self, data):\n",
    "    new_node = Node(data)\n",
    "    if self.head is None: # if the list is empty\n",
    "        self.head = new_node\n",
    "        return\n",
    "    current = self.head\n",
    "    while current.next is not None: # loop through the list to find the last node\n",
    "        current = current.next\n",
    "    current.next = new_node # set the last node's next to the new one"
   ]
  },
  {
   "cell_type": "markdown",
   "id": "067884fb",
   "metadata": {},
   "source": [
    "Print the List (traverse)"
   ]
  },
  {
   "cell_type": "code",
   "execution_count": null,
   "id": "d3bddeea",
   "metadata": {},
   "outputs": [],
   "source": [
    "def print_list(self):\n",
    "    current = self.head\n",
    "    while current is not None:\n",
    "        print(current.data, end=\" -> \") # prints the data with an arrow\n",
    "        current = current.next\n",
    "    print(\"None\") # end of list.\n"
   ]
  },
  {
   "cell_type": "markdown",
   "id": "61ee8745",
   "metadata": {},
   "source": [
    "Search for a value"
   ]
  },
  {
   "cell_type": "code",
   "execution_count": null,
   "id": "ef248011",
   "metadata": {},
   "outputs": [],
   "source": [
    "def search(self, target):\n",
    "    current = self.head\n",
    "    while current is not None:\n",
    "        if current.data == target:\n",
    "            return True # found\n",
    "        current = current.next\n",
    "    return False # not found"
   ]
  },
  {
   "cell_type": "markdown",
   "id": "83f942c0",
   "metadata": {},
   "source": [
    "Delete a Node by Value"
   ]
  },
  {
   "cell_type": "code",
   "execution_count": null,
   "id": "fe78e92a",
   "metadata": {},
   "outputs": [],
   "source": [
    "def delete(self, target):\n",
    "    if self.head is None:\n",
    "        return # list is empty\n",
    "    \n",
    "    if self.head.data == target: # if head is the one to delete\n",
    "        self.head = self.head.next\n",
    "        return\n",
    "    \n",
    "    current = self.head\n",
    "    while current.next is not None:\n",
    "        if current.next.data == target: # comparing the next node to target\n",
    "            current.next = current.next.next # skip over it\n",
    "            return\n",
    "        current = current.next\n",
    "        "
   ]
  },
  {
   "cell_type": "markdown",
   "id": "f01c73c0",
   "metadata": {},
   "source": [
    "All together now..."
   ]
  },
  {
   "cell_type": "code",
   "execution_count": null,
   "id": "111fd129",
   "metadata": {},
   "outputs": [],
   "source": [
    "from typing import Optional\n",
    "\n",
    "class Node:\n",
    "    def __init__(self, data):\n",
    "        self.data = data\n",
    "        self.next: Optional[Node] = None # indicate next can be Node or None\n",
    "\n",
    "class LinkedList:\n",
    "    def __init__(self):\n",
    "        self.head = None\n",
    "\n",
    "    def prepend(self, data):\n",
    "        new_node = Node(data)\n",
    "        new_node.next = self.head\n",
    "        self.head = new_node\n",
    "\n",
    "    def append(self, data):\n",
    "        new_node = Node(data)\n",
    "        if self.head is None:\n",
    "            self.head = new_node\n",
    "            return\n",
    "        current = self.head\n",
    "        while current.next is not None:\n",
    "            current = current.next\n",
    "        current.next = new_node\n",
    "        \n",
    "\n",
    "    def print_list(self):\n",
    "        current = self.head\n",
    "        while current is not None:\n",
    "            print(current.data, end=\" -> \")\n",
    "            current = current.next\n",
    "        print(\"None\")\n",
    "        \n",
    "\n",
    "    def search(self, target):\n",
    "        current = self.head\n",
    "        while current is not None:\n",
    "            if current.data == target:\n",
    "                return True\n",
    "            current = current.next\n",
    "        return False\n",
    "\n",
    "    def delete(self, target):\n",
    "        if self.head is None:\n",
    "            return\n",
    "        if self.head.data == target:\n",
    "            self.head = self.head.next\n",
    "            return\n",
    "        current = self.head\n",
    "        while current.next is not None:\n",
    "            if current.next.data == target:\n",
    "                current.next = current.next.next\n",
    "                return\n",
    "            current = current.next\n",
    "\n",
    "    def find_center(self) ->Optional[int]:\n",
    "        # use fast and slow pointers\n",
    "        if self.head is None:\n",
    "            return None\n",
    "        slow = self.head       \n",
    "        fast = self.head\n",
    "        while fast is not None and fast.next is not None:\n",
    "            slow = slow.next # move slow one step\n",
    "            fast = fast.next.next # and move fast two step\n",
    "        return slow.data # when the loop completes, slow is in the middle\n",
    "    \n",
    "    def reverse_list(self):\n",
    "        prev = None\n",
    "        current = self.head\n",
    "        while current:\n",
    "            temp = current.next\n",
    "            current.next = prev\n",
    "            prev = current\n",
    "            current = temp\n",
    "        self.head = prev\n",
    "\n",
    "    def has_cycle(self) -> bool:\n",
    "        if self.head is None:\n",
    "            return False\n",
    "        slow = self.head\n",
    "        fast = self.head\n",
    "        while fast is not None and fast.next is not None:\n",
    "            slow = slow.next\n",
    "            fast = fast.next.next\n",
    "            if slow == fast:\n",
    "                return True\n",
    "        return False\n",
    "    \n",
    "    def remove_duplicates(self):\n",
    "        current = self.head\n",
    "        while current and current.next:\n",
    "            if current.data == current.next.data:\n",
    "                current.next = current.next.next\n",
    "            else:\n",
    "                current = current.next\n",
    "    \n",
    "    def merge_sorted(self, other: 'LinkedList'):\n",
    "        dummy = Node(0)\n",
    "        current = dummy\n",
    "        p1 = self.head\n",
    "        p2 = other.head\n",
    "        while p1 and p2:\n",
    "            if p1.data <= p2.data:\n",
    "                current.next = p1\n",
    "                p1 = p1.next\n",
    "            else:\n",
    "                current.next = p2\n",
    "                p2 = p2.next\n",
    "            current = current.next\n",
    "        current.next = p1 if p1 else p2\n",
    "        self.head = dummy.next"
   ]
  },
  {
   "cell_type": "code",
   "execution_count": 7,
   "id": "495c4d65",
   "metadata": {},
   "outputs": [
    {
     "name": "stdout",
     "output_type": "stream",
     "text": [
      "1 -> 2 -> 3 -> 4 -> None\n",
      "3\n",
      "4 -> 3 -> 2 -> 1 -> None\n",
      "2\n",
      "None\n",
      "1\n",
      "1 -> None\n",
      "1 -> 2 -> None\n",
      "False\n",
      "True\n",
      "1 -> 2 -> 3 -> 4 -> 5 -> None\n"
     ]
    }
   ],
   "source": [
    "ll = LinkedList()\n",
    "ll.append(1)\n",
    "ll.append(2)\n",
    "ll.append(3)\n",
    "ll.append(4)\n",
    "ll.print_list()  # Outputs: 1 -> 2 -> 3 -> 4 -> None\n",
    "print(ll.find_center())  # Outputs: 2 (middle node’s value)\n",
    "ll.reverse_list()\n",
    "ll.print_list()  # Outputs: 4 -> 3 -> 2 -> 1 -> None\n",
    "print(ll.find_center())  # Outputs: 3 (middle node’s value)\n",
    "\n",
    "# Edge cases\n",
    "ll = LinkedList()\n",
    "print(ll.find_center())  # Outputs: None (empty list)\n",
    "ll.append(1)\n",
    "print(ll.find_center())  # Outputs: 1 (single node)\n",
    "ll.reverse_list()\n",
    "ll.print_list()  # Outputs: 1 -> None\n",
    "\n",
    "ll = LinkedList()\n",
    "ll.append(2)\n",
    "ll.prepend(1)\n",
    "ll.print_list()\n",
    "\n",
    "# Build the list\n",
    "ll = LinkedList()\n",
    "ll.append(1)\n",
    "ll.append(2)\n",
    "ll.append(3)\n",
    "ll.append(4)\n",
    "ll.append(5)\n",
    "ll.append(6)\n",
    "ll.append(7)\n",
    "ll.append(8)\n",
    "print(ll.has_cycle())  # Should be False (no cycle yet)\n",
    "\n",
    "# Create cycle: traverse to last node and point it back to head\n",
    "if ll.head:  # Only if list isn't empty\n",
    "    current = ll.head\n",
    "    while current.next is not None:\n",
    "        current = current.next\n",
    "    current.next = ll.head  # Last -> head\n",
    "\n",
    "print(ll.has_cycle())  # Should be True now\n",
    "\n",
    "ll1 = LinkedList()\n",
    "ll1.append(1)\n",
    "ll1.append(3)\n",
    "ll1.append(5)\n",
    "ll2 = LinkedList()\n",
    "ll2.append(2)\n",
    "ll2.append(4)\n",
    "ll1.merge_sorted(ll2)\n",
    "ll1.print_list()  # Outputs: 1 -> 2 -> 3 -> 4 -> 5 -> None"
   ]
  }
 ],
 "metadata": {
  "kernelspec": {
   "display_name": ".venv",
   "language": "python",
   "name": "python3"
  },
  "language_info": {
   "codemirror_mode": {
    "name": "ipython",
    "version": 3
   },
   "file_extension": ".py",
   "mimetype": "text/x-python",
   "name": "python",
   "nbconvert_exporter": "python",
   "pygments_lexer": "ipython3",
   "version": "3.11.0"
  }
 },
 "nbformat": 4,
 "nbformat_minor": 5
}
