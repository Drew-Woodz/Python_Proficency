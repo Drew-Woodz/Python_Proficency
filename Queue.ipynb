{
 "cells": [
  {
   "cell_type": "markdown",
   "id": "06ae0a21",
   "metadata": {},
   "source": [
    "Now, I should convince myself I understand a Queue as well."
   ]
  },
  {
   "cell_type": "code",
   "execution_count": 1,
   "id": "d2dec854",
   "metadata": {},
   "outputs": [],
   "source": [
    "class Queue:\n",
    "    def __init__(self):\n",
    "        self.queue = [] # empty list to hold our queue elements\n",
    "\n",
    "    def enqueue(self, item):\n",
    "        self.queue.append(item) # add to end\n",
    "\n",
    "    def dequeue(self):\n",
    "        if self.queue:\n",
    "            return self.queue.pop(0) # remove and return and return first item\n",
    "        else:\n",
    "            print(\"Queue was already empty\")\n",
    "            return None\n",
    "\n",
    "    def peek(self):\n",
    "        if self.queue:\n",
    "            return self.queue[0] # look at the first item\n",
    "        else:\n",
    "            print(\"Stack is empty!\")\n",
    "            return None\n",
    "\n",
    "    def is_empty(self) -> bool:\n",
    "        return len(self.queue) == 0\n",
    "    \n",
    "    def size(self) -> int:\n",
    "        return len(self.queue)\n"
   ]
  },
  {
   "cell_type": "code",
   "execution_count": 2,
   "id": "a4f03409",
   "metadata": {},
   "outputs": [
    {
     "name": "stdout",
     "output_type": "stream",
     "text": [
      "Empty?\n",
      "[1, 2, 3]\n",
      "1\n",
      "[2, 3]\n",
      "2\n",
      "2\n"
     ]
    }
   ],
   "source": [
    "q = Queue()\n",
    "print(\"Empty?\" if q.is_empty() else \"Not empty!\")\n",
    "q.enqueue(1)\n",
    "q.enqueue(2)\n",
    "q.enqueue(3)\n",
    "print(q.queue)  # [1, 2, 3]\n",
    "print(q.dequeue())  # 1\n",
    "print(q.queue)  # [2, 3]\n",
    "print(q.peek())  # 2\n",
    "print(q.size())  # 2"
   ]
  }
 ],
 "metadata": {
  "kernelspec": {
   "display_name": ".venv",
   "language": "python",
   "name": "python3"
  },
  "language_info": {
   "codemirror_mode": {
    "name": "ipython",
    "version": 3
   },
   "file_extension": ".py",
   "mimetype": "text/x-python",
   "name": "python",
   "nbconvert_exporter": "python",
   "pygments_lexer": "ipython3",
   "version": "3.11.0"
  }
 },
 "nbformat": 4,
 "nbformat_minor": 5
}
