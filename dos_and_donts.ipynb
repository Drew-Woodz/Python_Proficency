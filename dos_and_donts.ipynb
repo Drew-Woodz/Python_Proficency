{
 "cells": [
  {
   "cell_type": "markdown",
   "id": "22fe353a",
   "metadata": {},
   "source": [
    "Do's and Don'ts\n",
    "\n",
    "in python : from various social media sources."
   ]
  },
  {
   "cell_type": "markdown",
   "id": "eb9c14d3",
   "metadata": {},
   "source": [
    "mutable vs immutable types"
   ]
  },
  {
   "cell_type": "code",
   "execution_count": null,
   "id": "5926af7f",
   "metadata": {},
   "outputs": [
    {
     "name": "stdout",
     "output_type": "stream",
     "text": [
      "[100, 2] [100, 2]\n"
     ]
    }
   ],
   "source": [
    "# muitable type is something that can change\n",
    "list\n",
    "set\n",
    "dict\n",
    "\n",
    "# immutable tpe is something that cannot change\n",
    "str\n",
    "int\n",
    "float\n",
    "bool\n",
    "bytes\n",
    "tuple\n",
    "\n",
    "# x = (1, 2) # tuple is define then immutable\n",
    "\n",
    "# x[0] = 1 # cannot modify \n",
    "\n",
    "# ---------------------------------------------------------------------------\n",
    "# TypeError                                 Traceback (most recent call last)\n",
    "# Cell In[2], line 16\n",
    "#      12 tuple\n",
    "#      14 x = (1, 2)\n",
    "# ---> 16 x[0] = 1\n",
    "\n",
    "# TypeError: 'tuple' object does not support item assignment\n",
    "\n",
    "x = [1, 2] # list is mutable\n",
    "y = x # assigning reference not creating copy\n",
    "x[0] = 100 # can modify, and notice it modifies both x and y\n",
    "\n",
    "print(x, y)\n"
   ]
  },
  {
   "cell_type": "code",
   "execution_count": null,
   "id": "53b9a86d",
   "metadata": {},
   "outputs": [
    {
     "name": "stdout",
     "output_type": "stream",
     "text": [
      "[2, 3, 4, 1, 5, 8, 6, 9, 7, 0]\n",
      "[8, 9]\n",
      "[0, 1, 2, 3, 4, 5, 6, 7, 8, 9]\n"
     ]
    }
   ],
   "source": [
    "def get_largets_number(numbers, n): \n",
    "    numbers.sort() # actions has effect on referenced list, not contained by the function scope\n",
    "\n",
    "    return numbers[-n:]\n",
    "\n",
    "nums = [2, 3, 4, 1, 5, 8, 6, 9, 7, 0]  # list are mutable, so when passed to a function that modifies them\n",
    "\n",
    "print(nums)\n",
    "largest = get_largets_number(nums, 2)\n",
    "print(largest)\n",
    "print(nums) # the original list is modified by the function opperation"
   ]
  },
  {
   "cell_type": "markdown",
   "id": "1ba0f26e",
   "metadata": {},
   "source": [
    "List comprehensions"
   ]
  },
  {
   "cell_type": "code",
   "execution_count": 12,
   "id": "ea7db7e5",
   "metadata": {},
   "outputs": [
    {
     "name": "stdout",
     "output_type": "stream",
     "text": [
      "[0, 1, 2, 3, 4, 5, 6, 7, 8, 9]\n",
      "[[], [], [], [], [], [], [], [], [], []]\n",
      "[[0, 1, 2, 3, 4], [0, 1, 2, 3, 4], [0, 1, 2, 3, 4], [0, 1, 2, 3, 4], [0, 1, 2, 3, 4], [0, 1, 2, 3, 4], [0, 1, 2, 3, 4], [0, 1, 2, 3, 4], [0, 1, 2, 3, 4], [0, 1, 2, 3, 4]]\n",
      "[0, 2, 4, 6, 8]\n"
     ]
    }
   ],
   "source": [
    "x = [i for i in range(10)]\n",
    "print(x)\n",
    "x = [[] for i in range(10)]\n",
    "print(x)\n",
    "x = [[j for j in range(5)] for i in range(10)]\n",
    "print(x)\n",
    "x = [i for i in range(10) if i % 2 == 0]\n",
    "print(x)"
   ]
  },
  {
   "cell_type": "markdown",
   "id": "12bde87a",
   "metadata": {},
   "source": [
    "Argument and parameter types"
   ]
  },
  {
   "cell_type": "code",
   "execution_count": null,
   "id": "395346cd",
   "metadata": {},
   "outputs": [],
   "source": []
  }
 ],
 "metadata": {
  "kernelspec": {
   "display_name": ".venv",
   "language": "python",
   "name": "python3"
  },
  "language_info": {
   "codemirror_mode": {
    "name": "ipython",
    "version": 3
   },
   "file_extension": ".py",
   "mimetype": "text/x-python",
   "name": "python",
   "nbconvert_exporter": "python",
   "pygments_lexer": "ipython3",
   "version": "3.11.0"
  }
 },
 "nbformat": 4,
 "nbformat_minor": 5
}
