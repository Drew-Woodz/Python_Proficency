{
 "cells": [
  {
   "cell_type": "code",
   "execution_count": null,
   "id": "d0472e3f",
   "metadata": {},
   "outputs": [],
   "source": [
    "rolls = [4, 6, 2, 5, 3] \n",
    "for i in rolls: print(i)"
   ]
  },
  {
   "cell_type": "code",
   "execution_count": null,
   "id": "3633a1ea",
   "metadata": {},
   "outputs": [],
   "source": [
    "while count > 0: counter -= 3"
   ]
  },
  {
   "cell_type": "code",
   "execution_count": null,
   "id": "ea09ba2f",
   "metadata": {},
   "outputs": [],
   "source": [
    "while battery >= 20: battery -= 15"
   ]
  },
  {
   "cell_type": "code",
   "execution_count": null,
   "id": "5848af16",
   "metadata": {},
   "outputs": [],
   "source": [
    "for item in items:\n",
    "    print(item, items[item])"
   ]
  },
  {
   "cell_type": "code",
   "execution_count": null,
   "id": "697a45c6",
   "metadata": {},
   "outputs": [],
   "source": [
    "for i in range(len(items)):\n",
    "   print(i + 1, items[i])"
   ]
  },
  {
   "cell_type": "code",
   "execution_count": null,
   "id": "59109343",
   "metadata": {},
   "outputs": [],
   "source": [
    "while timer != 0:\n",
    "    print(timer)\n",
    "    timer -= 1\n",
    "print(\"Time's up!\")"
   ]
  }
 ],
 "metadata": {
  "kernelspec": {
   "display_name": ".venv",
   "language": "python",
   "name": "python3"
  },
  "language_info": {
   "name": "python",
   "version": "3.11.0"
  }
 },
 "nbformat": 4,
 "nbformat_minor": 5
}
